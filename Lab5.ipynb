{
 "cells": [
  {
   "cell_type": "code",
   "execution_count": 8,
   "id": "b72fcd60",
   "metadata": {},
   "outputs": [],
   "source": [
    "#Act 2\n",
    "def iterative_deepening_dfs(start,target):\n",
    "    depth=1\n",
    "    bottom_reached=False\n",
    "    while not bottom_reached:\n",
    "        result,bottom_reached=iterative_deepening_dfs_rec(start,target,0,depth)\n",
    "        if result is not None:\n",
    "            return result\n",
    "        depth*=2\n",
    "        print(\"increasing depth to\" +str(depth))\n",
    "        return None"
   ]
  },
  {
   "cell_type": "code",
   "execution_count": 9,
   "id": "951b575e",
   "metadata": {},
   "outputs": [],
   "source": [
    "def iterative_deepening_dfs_rec(node,target,current_depth,max_depth):\n",
    "    print(\"visiting node \" + str(node[\"value\"]))\n",
    "    if node[\"value\"]==target:\n",
    "        print(\"found node we're looking for!\")\n",
    "        return node,True\n",
    "    if current_depth==max_depth:\n",
    "        print(\"current max depth reached,returning...\")\n",
    "        if len(node[\"children\"])>0:\n",
    "            return None, False\n",
    "        else:\n",
    "            return None,True\n",
    "        bottom_reached=True\n",
    "        for i in range(len(node[\"children\"])):\n",
    "            result,bottom_reached_rec=iterative_deepening_dfs_rec(node[children][i],target,current_depth+1,max_depth)\n",
    "            if result is not None:\n",
    "                return result,True\n",
    "            bottom_reached=bottom_reached and bottom_raeched_rec\n",
    "            return None,bottom_reached"
   ]
  },
  {
   "cell_type": "code",
   "execution_count": 6,
   "id": "07510f1d",
   "metadata": {},
   "outputs": [
    {
     "name": "stdout",
     "output_type": "stream",
     "text": [
      "visiting node 0\n"
     ]
    },
    {
     "ename": "TypeError",
     "evalue": "cannot unpack non-iterable NoneType object",
     "output_type": "error",
     "traceback": [
      "\u001b[1;31m---------------------------------------------------------------------------\u001b[0m",
      "\u001b[1;31mTypeError\u001b[0m                                 Traceback (most recent call last)",
      "\u001b[1;32m~\\AppData\\Local\\Temp/ipykernel_1760/3178360667.py\u001b[0m in \u001b[0;36m<module>\u001b[1;34m\u001b[0m\n\u001b[0;32m     10\u001b[0m ]}\n\u001b[0;32m     11\u001b[0m \u001b[1;33m\u001b[0m\u001b[0m\n\u001b[1;32m---> 12\u001b[1;33m \u001b[0mprint\u001b[0m\u001b[1;33m(\u001b[0m\u001b[0miterative_deepening_dfs\u001b[0m\u001b[1;33m(\u001b[0m\u001b[0mstart\u001b[0m\u001b[1;33m,\u001b[0m \u001b[1;36m5\u001b[0m\u001b[1;33m)\u001b[0m\u001b[1;33m[\u001b[0m\u001b[1;34m\"value\"\u001b[0m\u001b[1;33m]\u001b[0m\u001b[1;33m)\u001b[0m\u001b[1;33m\u001b[0m\u001b[1;33m\u001b[0m\u001b[0m\n\u001b[0m",
      "\u001b[1;32m~\\AppData\\Local\\Temp/ipykernel_1760/2719365683.py\u001b[0m in \u001b[0;36miterative_deepening_dfs\u001b[1;34m(start, target)\u001b[0m\n\u001b[0;32m      4\u001b[0m     \u001b[0mbottom_reached\u001b[0m\u001b[1;33m=\u001b[0m\u001b[1;32mFalse\u001b[0m\u001b[1;33m\u001b[0m\u001b[1;33m\u001b[0m\u001b[0m\n\u001b[0;32m      5\u001b[0m     \u001b[1;32mwhile\u001b[0m \u001b[1;32mnot\u001b[0m \u001b[0mbottom_reached\u001b[0m\u001b[1;33m:\u001b[0m\u001b[1;33m\u001b[0m\u001b[1;33m\u001b[0m\u001b[0m\n\u001b[1;32m----> 6\u001b[1;33m         \u001b[0mresult\u001b[0m\u001b[1;33m,\u001b[0m\u001b[0mbottom_reached\u001b[0m\u001b[1;33m=\u001b[0m\u001b[0miterative_deepening_dfs_rec\u001b[0m\u001b[1;33m(\u001b[0m\u001b[0mstart\u001b[0m\u001b[1;33m,\u001b[0m\u001b[0mtarget\u001b[0m\u001b[1;33m,\u001b[0m\u001b[1;36m0\u001b[0m\u001b[1;33m,\u001b[0m\u001b[0mdepth\u001b[0m\u001b[1;33m)\u001b[0m\u001b[1;33m\u001b[0m\u001b[1;33m\u001b[0m\u001b[0m\n\u001b[0m\u001b[0;32m      7\u001b[0m         \u001b[1;32mif\u001b[0m \u001b[0mresult\u001b[0m \u001b[1;32mis\u001b[0m \u001b[1;32mnot\u001b[0m \u001b[1;32mNone\u001b[0m\u001b[1;33m:\u001b[0m\u001b[1;33m\u001b[0m\u001b[1;33m\u001b[0m\u001b[0m\n\u001b[0;32m      8\u001b[0m             \u001b[1;32mreturn\u001b[0m \u001b[0mresult\u001b[0m\u001b[1;33m\u001b[0m\u001b[1;33m\u001b[0m\u001b[0m\n",
      "\u001b[1;31mTypeError\u001b[0m: cannot unpack non-iterable NoneType object"
     ]
    }
   ],
   "source": [
    "start = {\"value\": 0, \"children\":[\n",
    "    {\"value\": 1, \"children\":[\n",
    "        {\"value\": 3, \"children\":[]},\n",
    "        {\"value\": 4, \"children\":[]}\n",
    "    ]}, {\"value\": 2, \"children\":[\n",
    "        {\"value\": 5, \"children\":[]},\n",
    "        {\"value\": 6, \"children\":[]}\n",
    "    ]}\n",
    "    \n",
    "]}\n",
    "\n",
    "print(iterative_deepening_dfs(start, 5)[\"value\"])"
   ]
  },
  {
   "cell_type": "code",
   "execution_count": null,
   "id": "9e7aeb1d",
   "metadata": {},
   "outputs": [],
   "source": []
  }
 ],
 "metadata": {
  "kernelspec": {
   "display_name": "Python 3 (ipykernel)",
   "language": "python",
   "name": "python3"
  },
  "language_info": {
   "codemirror_mode": {
    "name": "ipython",
    "version": 3
   },
   "file_extension": ".py",
   "mimetype": "text/x-python",
   "name": "python",
   "nbconvert_exporter": "python",
   "pygments_lexer": "ipython3",
   "version": "3.9.7"
  }
 },
 "nbformat": 4,
 "nbformat_minor": 5
}
